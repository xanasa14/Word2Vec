{
  "nbformat": 4,
  "nbformat_minor": 0,
  "metadata": {
    "colab": {
      "name": "WordEmbeddingTechnicques.ipynb",
      "provenance": [],
      "collapsed_sections": [],
      "mount_file_id": "15zgdq16Qee26tAkP-nJ4a8HbSwgeZ7Ru",
      "authorship_tag": "ABX9TyPJ8Xu07IvDLaEVQthFZ4vI",
      "include_colab_link": true
    },
    "kernelspec": {
      "name": "python3",
      "display_name": "Python 3"
    }
  },
  "cells": [
    {
      "cell_type": "markdown",
      "metadata": {
        "id": "view-in-github",
        "colab_type": "text"
      },
      "source": [
        "<a href=\"https://colab.research.google.com/github/xanasa14/Word2Vec/blob/master/WordEmbeddingTechnicques.ipynb\" target=\"_parent\"><img src=\"https://colab.research.google.com/assets/colab-badge.svg\" alt=\"Open In Colab\"/></a>"
      ]
    },
    {
      "cell_type": "code",
      "metadata": {
        "id": "GjuEXpNQ6M31",
        "colab_type": "code",
        "outputId": "6c861132-603a-43b8-c424-31ecf4371e10",
        "colab": {
          "base_uri": "https://localhost:8080/",
          "height": 71
        }
      },
      "source": [
        "\n",
        "import pandas as pd\n",
        "import matplotlib.pyplot as plt\n",
        "%matplotlib notebook\n",
        "import numpy as np\n",
        "import seaborn as sns\n",
        "import warnings\n",
        "warnings.filterwarnings('ignore')\n",
        "import re  # For preprocessing\n",
        "import pandas as pd  # For data handling\n",
        "from time import time  # To time our operations\n",
        "from collections import defaultdict  # For word frequency\n",
        "\n",
        "import spacy  # For preprocessing\n",
        "from gensim.models import Word2Vec\n",
        "import logging  # Setting up the loggings to monitor gensim\n",
        "logging.basicConfig(format=\"%(levelname)s - %(asctime)s: %(message)s\", datefmt= '%H:%M:%S', level=logging.INFO)\n",
        "from sklearn.manifold import TSNE\n",
        "from numpy import dot\n",
        "from numpy.linalg import norm"
      ],
      "execution_count": 1,
      "outputs": [
        {
          "output_type": "stream",
          "text": [
            "/usr/local/lib/python3.6/dist-packages/statsmodels/tools/_testing.py:19: FutureWarning: pandas.util.testing is deprecated. Use the functions in the public API at pandas.testing instead.\n",
            "  import pandas.util.testing as tm\n"
          ],
          "name": "stderr"
        }
      ]
    },
    {
      "cell_type": "code",
      "metadata": {
        "id": "YXochPaq6Ndu",
        "colab_type": "code",
        "outputId": "c69b56c4-211e-4113-c98f-1204bbbe2fa9",
        "colab": {
          "base_uri": "https://localhost:8080/",
          "height": 428
        }
      },
      "source": [
        "df = pd.read_csv('/content/drive/My Drive/data.csv')\n",
        "df.head()"
      ],
      "execution_count": 2,
      "outputs": [
        {
          "output_type": "execute_result",
          "data": {
            "text/html": [
              "<div>\n",
              "<style scoped>\n",
              "    .dataframe tbody tr th:only-of-type {\n",
              "        vertical-align: middle;\n",
              "    }\n",
              "\n",
              "    .dataframe tbody tr th {\n",
              "        vertical-align: top;\n",
              "    }\n",
              "\n",
              "    .dataframe thead th {\n",
              "        text-align: right;\n",
              "    }\n",
              "</style>\n",
              "<table border=\"1\" class=\"dataframe\">\n",
              "  <thead>\n",
              "    <tr style=\"text-align: right;\">\n",
              "      <th></th>\n",
              "      <th>Make</th>\n",
              "      <th>Model</th>\n",
              "      <th>Year</th>\n",
              "      <th>Engine Fuel Type</th>\n",
              "      <th>Engine HP</th>\n",
              "      <th>Engine Cylinders</th>\n",
              "      <th>Transmission Type</th>\n",
              "      <th>Driven_Wheels</th>\n",
              "      <th>Number of Doors</th>\n",
              "      <th>Market Category</th>\n",
              "      <th>Vehicle Size</th>\n",
              "      <th>Vehicle Style</th>\n",
              "      <th>highway MPG</th>\n",
              "      <th>city mpg</th>\n",
              "      <th>Popularity</th>\n",
              "      <th>MSRP</th>\n",
              "    </tr>\n",
              "  </thead>\n",
              "  <tbody>\n",
              "    <tr>\n",
              "      <th>0</th>\n",
              "      <td>BMW</td>\n",
              "      <td>1 Series M</td>\n",
              "      <td>2011</td>\n",
              "      <td>premium unleaded (required)</td>\n",
              "      <td>335.0</td>\n",
              "      <td>6.0</td>\n",
              "      <td>MANUAL</td>\n",
              "      <td>rear wheel drive</td>\n",
              "      <td>2.0</td>\n",
              "      <td>Factory Tuner,Luxury,High-Performance</td>\n",
              "      <td>Compact</td>\n",
              "      <td>Coupe</td>\n",
              "      <td>26</td>\n",
              "      <td>19</td>\n",
              "      <td>3916</td>\n",
              "      <td>46135</td>\n",
              "    </tr>\n",
              "    <tr>\n",
              "      <th>1</th>\n",
              "      <td>BMW</td>\n",
              "      <td>1 Series</td>\n",
              "      <td>2011</td>\n",
              "      <td>premium unleaded (required)</td>\n",
              "      <td>300.0</td>\n",
              "      <td>6.0</td>\n",
              "      <td>MANUAL</td>\n",
              "      <td>rear wheel drive</td>\n",
              "      <td>2.0</td>\n",
              "      <td>Luxury,Performance</td>\n",
              "      <td>Compact</td>\n",
              "      <td>Convertible</td>\n",
              "      <td>28</td>\n",
              "      <td>19</td>\n",
              "      <td>3916</td>\n",
              "      <td>40650</td>\n",
              "    </tr>\n",
              "    <tr>\n",
              "      <th>2</th>\n",
              "      <td>BMW</td>\n",
              "      <td>1 Series</td>\n",
              "      <td>2011</td>\n",
              "      <td>premium unleaded (required)</td>\n",
              "      <td>300.0</td>\n",
              "      <td>6.0</td>\n",
              "      <td>MANUAL</td>\n",
              "      <td>rear wheel drive</td>\n",
              "      <td>2.0</td>\n",
              "      <td>Luxury,High-Performance</td>\n",
              "      <td>Compact</td>\n",
              "      <td>Coupe</td>\n",
              "      <td>28</td>\n",
              "      <td>20</td>\n",
              "      <td>3916</td>\n",
              "      <td>36350</td>\n",
              "    </tr>\n",
              "    <tr>\n",
              "      <th>3</th>\n",
              "      <td>BMW</td>\n",
              "      <td>1 Series</td>\n",
              "      <td>2011</td>\n",
              "      <td>premium unleaded (required)</td>\n",
              "      <td>230.0</td>\n",
              "      <td>6.0</td>\n",
              "      <td>MANUAL</td>\n",
              "      <td>rear wheel drive</td>\n",
              "      <td>2.0</td>\n",
              "      <td>Luxury,Performance</td>\n",
              "      <td>Compact</td>\n",
              "      <td>Coupe</td>\n",
              "      <td>28</td>\n",
              "      <td>18</td>\n",
              "      <td>3916</td>\n",
              "      <td>29450</td>\n",
              "    </tr>\n",
              "    <tr>\n",
              "      <th>4</th>\n",
              "      <td>BMW</td>\n",
              "      <td>1 Series</td>\n",
              "      <td>2011</td>\n",
              "      <td>premium unleaded (required)</td>\n",
              "      <td>230.0</td>\n",
              "      <td>6.0</td>\n",
              "      <td>MANUAL</td>\n",
              "      <td>rear wheel drive</td>\n",
              "      <td>2.0</td>\n",
              "      <td>Luxury</td>\n",
              "      <td>Compact</td>\n",
              "      <td>Convertible</td>\n",
              "      <td>28</td>\n",
              "      <td>18</td>\n",
              "      <td>3916</td>\n",
              "      <td>34500</td>\n",
              "    </tr>\n",
              "  </tbody>\n",
              "</table>\n",
              "</div>"
            ],
            "text/plain": [
              "  Make       Model  Year  ... city mpg  Popularity   MSRP\n",
              "0  BMW  1 Series M  2011  ...       19        3916  46135\n",
              "1  BMW    1 Series  2011  ...       19        3916  40650\n",
              "2  BMW    1 Series  2011  ...       20        3916  36350\n",
              "3  BMW    1 Series  2011  ...       18        3916  29450\n",
              "4  BMW    1 Series  2011  ...       18        3916  34500\n",
              "\n",
              "[5 rows x 16 columns]"
            ]
          },
          "metadata": {
            "tags": []
          },
          "execution_count": 2
        }
      ]
    },
    {
      "cell_type": "code",
      "metadata": {
        "id": "SG1Qq9Mt6R97",
        "colab_type": "code",
        "colab": {
          "base_uri": "https://localhost:8080/",
          "height": 34
        },
        "outputId": "6d28face-f991-48bc-da7d-4c0ea50a4266"
      },
      "source": [
        "df['Maker_Model']= df['Make']+ \" \" + df['Model']\n"
      ],
      "execution_count": 3,
      "outputs": [
        {
          "output_type": "stream",
          "text": [
            "INFO - 18:09:20: NumExpr defaulting to 2 threads.\n"
          ],
          "name": "stderr"
        }
      ]
    },
    {
      "cell_type": "code",
      "metadata": {
        "id": "97c3WLNw7UQB",
        "colab_type": "code",
        "colab": {
          "base_uri": "https://localhost:8080/",
          "height": 306
        },
        "outputId": "3d4b559d-7a89-4caf-f281-32176ce9e3d1"
      },
      "source": [
        "# Select features from original dataset to form a new dataframe \n",
        "df1 = df[['Engine Fuel Type','Transmission Type','Driven_Wheels','Market Category','Vehicle Size', 'Vehicle Style', 'Maker_Model']]\n",
        "# For each row, combine all the columns into one column\n",
        "df2 = df1.apply(lambda x: ','.join(x.astype(str)), axis=1) \n",
        "# Store them in the pandas dataframe\n",
        "df_clean = pd.DataFrame({'clean': df2}) \n",
        "# Create the list of list format of the custom corpus for gensim modeling \n",
        "sent = [row.split(',') for row in df_clean['clean']]\n",
        "# show the example of list of list format of the custom corpus for gensim modeling \n",
        "sent[:2]\n"
      ],
      "execution_count": 4,
      "outputs": [
        {
          "output_type": "execute_result",
          "data": {
            "text/plain": [
              "[['premium unleaded (required)',\n",
              "  'MANUAL',\n",
              "  'rear wheel drive',\n",
              "  'Factory Tuner',\n",
              "  'Luxury',\n",
              "  'High-Performance',\n",
              "  'Compact',\n",
              "  'Coupe',\n",
              "  'BMW 1 Series M'],\n",
              " ['premium unleaded (required)',\n",
              "  'MANUAL',\n",
              "  'rear wheel drive',\n",
              "  'Luxury',\n",
              "  'Performance',\n",
              "  'Compact',\n",
              "  'Convertible',\n",
              "  'BMW 1 Series']]"
            ]
          },
          "metadata": {
            "tags": []
          },
          "execution_count": 4
        }
      ]
    },
    {
      "cell_type": "code",
      "metadata": {
        "id": "5O45H80f7cGc",
        "colab_type": "code",
        "colab": {
          "base_uri": "https://localhost:8080/",
          "height": 632
        },
        "outputId": "ac119768-d021-40b4-fc98-ed1852221bf5"
      },
      "source": [
        "## Train the genisim word2vec model with our own custom corpus\n",
        "model = Word2Vec(sent, min_count=1,size= 50,workers=3, window =3, sg = 1)"
      ],
      "execution_count": 5,
      "outputs": [
        {
          "output_type": "stream",
          "text": [
            "WARNING - 18:10:51: consider setting layer size to a multiple of 4 for greater performance\n",
            "INFO - 18:10:51: collecting all words and their counts\n",
            "INFO - 18:10:51: PROGRESS: at sentence #0, processed 0 words, keeping 0 word types\n",
            "INFO - 18:10:51: PROGRESS: at sentence #10000, processed 74060 words, keeping 841 word types\n",
            "INFO - 18:10:51: collected 977 word types from a corpus of 88129 raw words and 11914 sentences\n",
            "INFO - 18:10:51: Loading a fresh vocabulary\n",
            "INFO - 18:10:51: effective_min_count=1 retains 977 unique words (100% of original 977, drops 0)\n",
            "INFO - 18:10:51: effective_min_count=1 leaves 88129 word corpus (100% of original 88129, drops 0)\n",
            "INFO - 18:10:51: deleting the raw counts dictionary of 977 items\n",
            "INFO - 18:10:51: sample=0.001 downsamples 35 most-common words\n",
            "INFO - 18:10:51: downsampling leaves estimated 29996 word corpus (34.0% of prior 88129)\n",
            "INFO - 18:10:51: estimated required memory for 977 words and 50 dimensions: 879300 bytes\n",
            "INFO - 18:10:51: resetting layer weights\n",
            "INFO - 18:10:51: training model with 3 workers on 977 vocabulary and 50 features, using sg=1 hs=0 sample=0.001 negative=5 window=3\n",
            "INFO - 18:10:51: worker thread finished; awaiting finish of 2 more threads\n",
            "INFO - 18:10:51: worker thread finished; awaiting finish of 1 more threads\n",
            "INFO - 18:10:51: worker thread finished; awaiting finish of 0 more threads\n",
            "INFO - 18:10:51: EPOCH - 1 : training on 88129 raw words (30123 effective words) took 0.1s, 409933 effective words/s\n",
            "INFO - 18:10:51: worker thread finished; awaiting finish of 2 more threads\n",
            "INFO - 18:10:51: worker thread finished; awaiting finish of 1 more threads\n",
            "INFO - 18:10:51: worker thread finished; awaiting finish of 0 more threads\n",
            "INFO - 18:10:51: EPOCH - 2 : training on 88129 raw words (30134 effective words) took 0.1s, 383444 effective words/s\n",
            "INFO - 18:10:51: worker thread finished; awaiting finish of 2 more threads\n",
            "INFO - 18:10:51: worker thread finished; awaiting finish of 1 more threads\n",
            "INFO - 18:10:51: worker thread finished; awaiting finish of 0 more threads\n",
            "INFO - 18:10:51: EPOCH - 3 : training on 88129 raw words (29786 effective words) took 0.1s, 416424 effective words/s\n",
            "INFO - 18:10:51: worker thread finished; awaiting finish of 2 more threads\n",
            "INFO - 18:10:51: worker thread finished; awaiting finish of 1 more threads\n",
            "INFO - 18:10:51: worker thread finished; awaiting finish of 0 more threads\n",
            "INFO - 18:10:51: EPOCH - 4 : training on 88129 raw words (29976 effective words) took 0.1s, 419292 effective words/s\n",
            "INFO - 18:10:51: worker thread finished; awaiting finish of 2 more threads\n",
            "INFO - 18:10:51: worker thread finished; awaiting finish of 1 more threads\n",
            "INFO - 18:10:51: worker thread finished; awaiting finish of 0 more threads\n",
            "INFO - 18:10:51: EPOCH - 5 : training on 88129 raw words (29852 effective words) took 0.1s, 424873 effective words/s\n",
            "INFO - 18:10:51: training on a 440645 raw words (149871 effective words) took 0.4s, 361264 effective words/s\n"
          ],
          "name": "stderr"
        }
      ]
    },
    {
      "cell_type": "code",
      "metadata": {
        "id": "GpL61c0o7qdK",
        "colab_type": "code",
        "colab": {
          "base_uri": "https://localhost:8080/",
          "height": 204
        },
        "outputId": "d2ac647e-319c-4b75-bcf0-b56400b988de"
      },
      "source": [
        "## We can obtain the word embedding directly from the training model\n",
        "model['Toyota Camry']"
      ],
      "execution_count": 6,
      "outputs": [
        {
          "output_type": "execute_result",
          "data": {
            "text/plain": [
              "array([-0.13439547,  0.08575553, -0.01532825,  0.07142699, -0.07195324,\n",
              "       -0.07214816,  0.08269129,  0.08128474, -0.08601785,  0.23465951,\n",
              "        0.03897788,  0.15327561,  0.08458035,  0.04650142,  0.07964969,\n",
              "       -0.1721467 ,  0.21810229,  0.1728444 ,  0.12142037, -0.08902641,\n",
              "        0.07515758, -0.28660145, -0.13373317,  0.11967   , -0.08021045,\n",
              "        0.01095543, -0.35724244,  0.05505908,  0.07388828,  0.10590976,\n",
              "        0.05928633,  0.02623783,  0.05972757,  0.00545741,  0.03543909,\n",
              "       -0.11148624, -0.06895357, -0.04056531,  0.03862485,  0.13313933,\n",
              "        0.14928861,  0.30254745,  0.13608892,  0.295677  ,  0.07329377,\n",
              "        0.02284901, -0.20518747, -0.02098902,  0.13073565, -0.07922933],\n",
              "      dtype=float32)"
            ]
          },
          "metadata": {
            "tags": []
          },
          "execution_count": 6
        }
      ]
    },
    {
      "cell_type": "code",
      "metadata": {
        "id": "idGgpHdq7yNJ",
        "colab_type": "code",
        "colab": {
          "base_uri": "https://localhost:8080/",
          "height": 34
        },
        "outputId": "9a3f3767-5e86-4f95-b943-5ac874763e72"
      },
      "source": [
        "model.similarity('Porsche 718 Cayman', 'Nissan Van')\n"
      ],
      "execution_count": 7,
      "outputs": [
        {
          "output_type": "execute_result",
          "data": {
            "text/plain": [
              "0.8726467"
            ]
          },
          "metadata": {
            "tags": []
          },
          "execution_count": 7
        }
      ]
    },
    {
      "cell_type": "code",
      "metadata": {
        "id": "Cky39m4370HQ",
        "colab_type": "code",
        "colab": {
          "base_uri": "https://localhost:8080/",
          "height": 34
        },
        "outputId": "68ef4952-2747-42fe-f971-a55e0e3f38ba"
      },
      "source": [
        "model.similarity('Porsche 718 Cayman', 'Mercedes-Benz SLK-Class')\n"
      ],
      "execution_count": 8,
      "outputs": [
        {
          "output_type": "execute_result",
          "data": {
            "text/plain": [
              "0.9339539"
            ]
          },
          "metadata": {
            "tags": []
          },
          "execution_count": 8
        }
      ]
    },
    {
      "cell_type": "code",
      "metadata": {
        "id": "n8clOwXj71eA",
        "colab_type": "code",
        "colab": {
          "base_uri": "https://localhost:8080/",
          "height": 119
        },
        "outputId": "3a1db2f4-d6cf-4669-cf15-8136f2c9d8d5"
      },
      "source": [
        "## Show the most similar vehicles for Mercedes-Benz SLK-Class : Default by eculidean distance \n",
        "model.most_similar('Mercedes-Benz SLK-Class')[:5]"
      ],
      "execution_count": 10,
      "outputs": [
        {
          "output_type": "stream",
          "text": [
            "INFO - 18:11:57: precomputing L2-norms of word weight vectors\n"
          ],
          "name": "stderr"
        },
        {
          "output_type": "execute_result",
          "data": {
            "text/plain": [
              "[('Lamborghini Murcielago', 0.9956305623054504),\n",
              " ('Maserati Spyder', 0.9943025708198547),\n",
              " ('Rolls-Royce Ghost', 0.9936675429344177),\n",
              " ('Ferrari 456M', 0.9936456680297852),\n",
              " ('Mercedes-Benz SLS AMG GT', 0.9935657978057861)]"
            ]
          },
          "metadata": {
            "tags": []
          },
          "execution_count": 10
        }
      ]
    },
    {
      "cell_type": "code",
      "metadata": {
        "id": "07TYJd6S73-H",
        "colab_type": "code",
        "colab": {
          "base_uri": "https://localhost:8080/",
          "height": 102
        },
        "outputId": "e8ed83a6-17ca-48a7-97ea-736ba23a4856"
      },
      "source": [
        "## Show the most similar vehicles for Toyota Camry : Default by eculidean distance \n",
        "model.most_similar('Toyota Camry')[:5]"
      ],
      "execution_count": 11,
      "outputs": [
        {
          "output_type": "execute_result",
          "data": {
            "text/plain": [
              "[('Oldsmobile Cutlass Ciera', 0.9937982559204102),\n",
              " ('Toyota Avalon Hybrid', 0.9924304485321045),\n",
              " ('Pontiac Grand Am', 0.9922949075698853),\n",
              " ('Chevrolet Malibu', 0.9914178252220154),\n",
              " ('Oldsmobile LSS', 0.9905810356140137)]"
            ]
          },
          "metadata": {
            "tags": []
          },
          "execution_count": 11
        }
      ]
    },
    {
      "cell_type": "code",
      "metadata": {
        "id": "i7ie_0FI7-1e",
        "colab_type": "code",
        "colab": {}
      },
      "source": [
        "def cosine_distance (model, word,target_list , num) :\n",
        "    cosine_dict ={}\n",
        "    word_list = []\n",
        "    a = model[word]\n",
        "    for item in target_list :\n",
        "        if item != word :\n",
        "            b = model [item]\n",
        "            cos_sim = dot(a, b)/(norm(a)*norm(b))\n",
        "            cosine_dict[item] = cos_sim\n",
        "    dist_sort=sorted(cosine_dict.items(), key=lambda dist: dist[1],reverse = True) ## in Descedning order \n",
        "    for item in dist_sort:\n",
        "        word_list.append((item[0], item[1]))\n",
        "    return word_list[0:num]"
      ],
      "execution_count": 0,
      "outputs": []
    },
    {
      "cell_type": "code",
      "metadata": {
        "id": "F7RRycfD8BNf",
        "colab_type": "code",
        "colab": {
          "base_uri": "https://localhost:8080/",
          "height": 102
        },
        "outputId": "9df6cc2b-7e24-45f2-c6ac-c4d5b843b89a"
      },
      "source": [
        "Maker_Model = list(df.Maker_Model.unique()) ## only get the unique Maker_Model_Year\n",
        "## Show the most similar Mercedes-Benz SLK-Class by cosine distance \n",
        "cosine_distance (model,'Mercedes-Benz SLK-Class',Maker_Model,5)"
      ],
      "execution_count": 13,
      "outputs": [
        {
          "output_type": "execute_result",
          "data": {
            "text/plain": [
              "[('Lamborghini Murcielago', 0.99563056),\n",
              " ('Maserati Spyder', 0.9943025),\n",
              " ('Rolls-Royce Ghost', 0.99366754),\n",
              " ('Ferrari 456M', 0.99364567),\n",
              " ('Mercedes-Benz SLS AMG GT', 0.993566)]"
            ]
          },
          "metadata": {
            "tags": []
          },
          "execution_count": 13
        }
      ]
    },
    {
      "cell_type": "code",
      "metadata": {
        "id": "1na1vweF8EVL",
        "colab_type": "code",
        "colab": {}
      },
      "source": [
        "def display_closestwords_tsnescatterplot(model, word, size):\n",
        "    \n",
        "    arr = np.empty((0,size), dtype='f')\n",
        "    word_labels = [word]\n",
        "\n",
        "    close_words = model.similar_by_word(word)\n",
        "\n",
        "    arr = np.append(arr, np.array([model[word]]), axis=0)\n",
        "    for wrd_score in close_words:\n",
        "        wrd_vector = model[wrd_score[0]]\n",
        "        word_labels.append(wrd_score[0])\n",
        "        arr = np.append(arr, np.array([wrd_vector]), axis=0)\n",
        "        \n",
        "    tsne = TSNE(n_components=2, random_state=0)\n",
        "    np.set_printoptions(suppress=True)\n",
        "    Y = tsne.fit_transform(arr)\n",
        "\n",
        "    x_coords = Y[:, 0]\n",
        "    y_coords = Y[:, 1]\n",
        "    plt.scatter(x_coords, y_coords)\n",
        "\n",
        "    for label, x, y in zip(word_labels, x_coords, y_coords):\n",
        "        plt.annotate(label, xy=(x, y), xytext=(0, 0), textcoords='offset points')\n",
        "    plt.xlim(x_coords.min()+0.00005, x_coords.max()+0.00005)\n",
        "    plt.ylim(y_coords.min()+0.00005, y_coords.max()+0.00005)\n",
        "    plt.show()"
      ],
      "execution_count": 0,
      "outputs": []
    },
    {
      "cell_type": "code",
      "metadata": {
        "id": "qF3ekw_g8IC1",
        "colab_type": "code",
        "colab": {
          "base_uri": "https://localhost:8080/",
          "height": 273
        },
        "outputId": "74701fd5-9041-47b2-c9be-e043c02aea77"
      },
      "source": [
        "display_closestwords_tsnescatterplot(model, 'Porsche 718 Cayman', 50)\n"
      ],
      "execution_count": 15,
      "outputs": [
        {
          "output_type": "display_data",
          "data": {
            "image/png": "[encoded data removed]",
            "text/plain": [
              "<Figure size 432x288 with 1 Axes>"
            ]
          },
          "metadata": {
            "tags": [],
            "needs_background": "light"
          }
        }
      ]
    },
    {
      "cell_type": "code",
      "metadata": {
        "id": "6RhdnJvW8KS3",
        "colab_type": "code",
        "colab": {}
      },
      "source": [
        ""
      ],
      "execution_count": 0,
      "outputs": []
    }
  ]
}